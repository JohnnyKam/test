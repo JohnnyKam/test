{
    "metadata": {
        "kernelspec": {
            "name": "python3", 
            "display_name": "Python 3.5", 
            "language": "python"
        }, 
        "language_info": {
            "version": "3.5.5", 
            "codemirror_mode": {
                "version": 3, 
                "name": "ipython"
            }, 
            "mimetype": "text/x-python", 
            "pygments_lexer": "ipython3", 
            "file_extension": ".py", 
            "name": "python", 
            "nbconvert_exporter": "python"
        }
    }, 
    "cells": [
        {
            "metadata": {
                "collapsed": true
            }, 
            "cell_type": "code", 
            "outputs": [], 
            "execution_count": null, 
            "source": ""
        }
    ], 
    "nbformat_minor": 1, 
    "nbformat": 4
}